{
 "cells": [
  {
   "cell_type": "markdown",
   "metadata": {},
   "source": [
    "### Project 1"
   ]
  },
  {
   "cell_type": "markdown",
   "metadata": {},
   "source": [
    "We need to design an implement a class that will be used to represent bank accounts.\n",
    "\n",
    "We want the following functionality and characteristics:\n",
    "- accounts are uniquely identified by an **account number** (assume it will just be passed in the initializer)\n",
    "- account holders have a **first** and **last** name\n",
    "- accounts have an associated **preferred time zone offset** (e.g. -7 for MST)\n",
    "- **balances** need to be zero or higher, and should not be directly settable.\n",
    "- but, **deposits** and **withdrawals** can be made (given sufficient funds)\n",
    "    - if a withdrawal is attempted that would result in nagative funds, the transaction should be declined.\n",
    "- a **monthly interest rate** exists and is applicable to all accounts **uniformly**. There should be a method that can be called to calculate the interest on the current balance using the current interest rate, and **add it** to the balance.\n",
    "- each deposit and withdrawal must generate a **confirmation number** composed of:\n",
    "    - the transaction type: `D` for deposit, and `W` for withdrawal, `I` for interest deposit, and `X` for declined (in which case the balance remains unaffected)\n",
    "    - the account number\n",
    "    - the time the transaction was made, using UTC\n",
    "    - an incrementing number (that increments across all accounts and transactions)\n",
    "    - for (extreme!) simplicity assume that the transaction id starts at zero (or whatever number you choose) whenever the program starts\n",
    "    - the confirmation number should be returned from any of the transaction methods (deposit, withdraw, etc)\n",
    "- create a **method** that, given a confirmation number, returns:\n",
    "    - the account number, transaction code (D, W, etc), datetime (UTC format), date time (in whatever timezone is specified in te argument, but more human readable), the transaction ID\n",
    "    - make it so it is a nicely structured object (so can use dotted notation to access these three attributes)\n",
    "    - I purposefully made it so the desired timezone is passed as an argument. Can you figure out why? (hint: does this method require any information from any instance?)"
   ]
  },
  {
   "cell_type": "markdown",
   "metadata": {},
   "source": [
    "For example, we may have an account with:\n",
    "- account number `140568` \n",
    "- preferred time zone offset of -7 (MST) \n",
    "- an existing balance of `100.00`\n",
    "\n",
    "Suppose the last transaction ID in the system was `123`, and a deposit is made for `50.00` on `2019-03-15T14:59:00` (UTC) on that account (or `2019-03-15T07:59:00` in account's preferred time zone offset)\n",
    "\n",
    "The new balance should reflect `150.00` and the confirmation number returned should look something like this:\n",
    "\n",
    "```D-140568-20190315145900-124```\n",
    "\n",
    "We also want a method that given the confirmation number returns an object with attributes:\n",
    "- `result.account_number` --> `140568`\n",
    "- `result.transaction_code` --> `D`\n",
    "- `result.transaction_id` --> `124`\n",
    "- `result.time` --> `2019-03-15 07:59:00 (MST)`\n",
    "- `result.time_utc` --> `2019-03-15T14:59:00`"
   ]
  },
  {
   "cell_type": "markdown",
   "metadata": {},
   "source": [
    "Furthermore, if current interest rate is `0.5%`, and the account's balance is `1000.00`, then the result of calling the `deposit_interest` (or whatever name you choose) method, should result in a new transaction and a new balance of `1050.00`. Calling this method should also return a confirmation number.\n",
    "\n",
    "For simplicty, just use floats, but be aware that for these types of situations you'll probably want to use `Decimal` objects instead of floats."
   ]
  },
  {
   "cell_type": "markdown",
   "metadata": {},
   "source": [
    "There are going to be many ways to design something like this, especially since I have not nailed down all the specific requirements, so you'll have to fill the gaps yourself and decide what other things you may want to implement (like is the account number going to be a mutable property, or \"read-only\" and so on).\n",
    "\n",
    "See how many different ideas you can use from what we covered in the last section. "
   ]
  },
  {
   "cell_type": "markdown",
   "metadata": {},
   "source": [
    "My approach will end up creating two classes: a `TimeZone` class used to store the time zone name and offset definition (in hours and minutes), and a main class called `Account` that will have the following \"public\" interface:\n",
    "- initializer with account number, first name, last name, optional preferred time zone, starting balance (defaults to 0)\n",
    "- a first name property (read/write)\n",
    "- a last name property (read/write)\n",
    "- a full name property (computed, read-only)\n",
    "- a balance property (read-only)\n",
    "- an interest rate property (class level property)\n",
    "- deposit, withdraw, pay_interest methods\n",
    "- parse confirmation code\n",
    "\n",
    "Class will have additional state and methods, but those will be used for implementation."
   ]
  },
  {
   "cell_type": "markdown",
   "metadata": {},
   "source": [
    "You should also remember to test your code! In the solutions I will introduce you to Python's `unittest` package. Even if you skip this project, at least review that video and/or notebook if you are unfamiliar with `unittest`."
   ]
  },
  {
   "cell_type": "code",
   "execution_count": 14,
   "metadata": {},
   "outputs": [],
   "source": [
    "# timezone class\n",
    "import numbers\n",
    "from datetime import timedelta\n",
    "\n",
    "class TimeZone:\n",
    "    def __init__(self, name, offset_hours, offset_minutes):\n",
    "        if name is None or len(str(name).strip()) == 0:\n",
    "            raise ValueError('Timezone name cannot be empty.')\n",
    "        \n",
    "        self._name = str(name).strip()\n",
    "        \n",
    "        if not isinstance(offset_hours, numbers.Number):\n",
    "            raise ValueError(\"Hour offset must be an integer\")\n",
    "        \n",
    "        if not isinstance(offset_minutes, numbers.Number):\n",
    "            raise ValueError('Minute offset must be an integer')\n",
    "        \n",
    "        if offset_minutes > 59 or offset_minutes < -59:\n",
    "            raise ValueError('Minutes offset must be between -59 and 59 (inclusive).')\n",
    "        \n",
    "        offset = timedelta(hours = offset_hours, minutes = offset_minutes)\n",
    "        if offset < timedelta(hours = -12, minutes = 0) or offset > timedelta(hours = 14, minutes =0 ):\n",
    "            raise ValueError('Offset must be between -12:00 and +14:00')\n",
    "        \n",
    "        self._offset_hours = offset_hours\n",
    "        self._offset_minutes = offset_minutes\n",
    "        self._offset = offset\n",
    "        \n",
    "    @property\n",
    "    def offset(self):\n",
    "        return self._offset\n",
    "\n",
    "    @property\n",
    "    def name(self):\n",
    "        return self._name\n",
    "\n",
    "    def __eq__(self,other):\n",
    "        return (isinstance(other,TimeZone) and \n",
    "                self.name == other.name and\n",
    "                self._offset_minutes == other._offset_minutes and\n",
    "                self._offset_hours == other._offset_hours)\n",
    "\n",
    "    def __repr__(self):\n",
    "        return (f\"TimeZone(name= '{self.name}',\"\n",
    "                f\"offset_hours = {self._offset_hours},\"\n",
    "                f\"offset_minutes = {self._offset_minutes})\")\n"
   ]
  },
  {
   "cell_type": "code",
   "execution_count": 15,
   "metadata": {},
   "outputs": [],
   "source": [
    "tz1 = TimeZone('ABC', -2,-15)"
   ]
  },
  {
   "cell_type": "code",
   "execution_count": 17,
   "metadata": {},
   "outputs": [
    {
     "data": {
      "text/plain": [
       "'ABC'"
      ]
     },
     "execution_count": 17,
     "metadata": {},
     "output_type": "execute_result"
    }
   ],
   "source": [
    "tz1.__dict__\n",
    "tz1.name\n"
   ]
  },
  {
   "cell_type": "code",
   "execution_count": 18,
   "metadata": {},
   "outputs": [
    {
     "data": {
      "text/plain": [
       "datetime.datetime(2024, 4, 9, 16, 14, 15, 457363)"
      ]
     },
     "execution_count": 18,
     "metadata": {},
     "output_type": "execute_result"
    }
   ],
   "source": [
    "from datetime import datetime\n",
    "dt = datetime.utcnow()\n",
    "dt"
   ]
  },
  {
   "cell_type": "code",
   "execution_count": 19,
   "metadata": {},
   "outputs": [
    {
     "name": "stdout",
     "output_type": "stream",
     "text": [
      "2024-04-09 16:14:15.457363\n"
     ]
    }
   ],
   "source": [
    "print(dt)"
   ]
  },
  {
   "cell_type": "code",
   "execution_count": 20,
   "metadata": {},
   "outputs": [
    {
     "name": "stdout",
     "output_type": "stream",
     "text": [
      "2024-04-09 13:59:15.457363\n"
     ]
    }
   ],
   "source": [
    "print(dt+tz1.offset)"
   ]
  },
  {
   "cell_type": "code",
   "execution_count": 22,
   "metadata": {},
   "outputs": [
    {
     "name": "stdout",
     "output_type": "stream",
     "text": [
      "Timezone name cannot be empty.\n"
     ]
    }
   ],
   "source": [
    "try:\n",
    "    tz = TimeZone(\" \",0,0)\n",
    "except ValueError as ex:\n",
    "    print(ex)"
   ]
  },
  {
   "cell_type": "code",
   "execution_count": 23,
   "metadata": {},
   "outputs": [],
   "source": [
    "class TransactionID:\n",
    "    def __init__(self,start_id):\n",
    "        self._start_id = start_id\n",
    "    \n",
    "    def next(self):\n",
    "        self._start_id +=1\n",
    "        return self._start_id"
   ]
  },
  {
   "cell_type": "code",
   "execution_count": 41,
   "metadata": {},
   "outputs": [],
   "source": [
    "def transaction_ids(start_id):\n",
    "    while True:\n",
    "        start_id+=1\n",
    "        yield start_id\n",
    "        \n",
    "class Account:\n",
    "    interest_rate = 0.005\n",
    "    \n",
    "    transaction_counter = transaction_ids(100)\n",
    "    \n",
    "    def make_transaction(self):\n",
    "        new_trans_id = next(Account.transaction_counter)\n",
    "        return new_trans_id\n",
    "#     def __init__(self,accountID,firstName,lastName,preferred_time_zone, balance = 0):\n",
    "#         self._accountID = accountID\n",
    "#         self._lastName = lastName\n",
    "#         self._firstName = firstName\n",
    "#         self.balance = balance\n",
    "    \n",
    "#     @property\n",
    "#     def firstName(self):\n",
    "#         return self._firstName\n",
    "    \n",
    "#     @firstName.setter\n",
    "#     def firstName(self,value):\n",
    "#         self._firstName = value\n",
    "\n",
    "#     @property\n",
    "#     def lastName(self):\n",
    "#         return self._lastName\n",
    "    \n",
    "#     @lastName.setter\n",
    "#     def firstName(self,value):\n",
    "#         self._lastName = value\n",
    "    \n",
    "#     @property\n",
    "#     def fullName(self):\n",
    "#         return f\"{self._firstName} {self._lastName}\"\n",
    "    \n",
    "    "
   ]
  },
  {
   "cell_type": "code",
   "execution_count": 42,
   "metadata": {},
   "outputs": [],
   "source": [
    "a1 = Account()\n",
    "a2 = Account()\n"
   ]
  },
  {
   "cell_type": "code",
   "execution_count": 43,
   "metadata": {},
   "outputs": [
    {
     "name": "stdout",
     "output_type": "stream",
     "text": [
      "101\n",
      "102\n",
      "103\n"
     ]
    }
   ],
   "source": [
    "print(a1.make_transaction())\n",
    "print(a2.make_transaction())\n",
    "print(a1.make_transaction())"
   ]
  },
  {
   "cell_type": "code",
   "execution_count": 33,
   "metadata": {},
   "outputs": [],
   "source": []
  },
  {
   "cell_type": "code",
   "execution_count": 34,
   "metadata": {},
   "outputs": [],
   "source": [
    "t = transaction_ids(100)"
   ]
  },
  {
   "cell_type": "code",
   "execution_count": 35,
   "metadata": {},
   "outputs": [
    {
     "data": {
      "text/plain": [
       "<generator object transaction_ids at 0x7fa0302fb120>"
      ]
     },
     "execution_count": 35,
     "metadata": {},
     "output_type": "execute_result"
    }
   ],
   "source": [
    "t"
   ]
  },
  {
   "cell_type": "code",
   "execution_count": 36,
   "metadata": {},
   "outputs": [
    {
     "data": {
      "text/plain": [
       "101"
      ]
     },
     "execution_count": 36,
     "metadata": {},
     "output_type": "execute_result"
    }
   ],
   "source": [
    "next(t)"
   ]
  },
  {
   "cell_type": "code",
   "execution_count": 37,
   "metadata": {},
   "outputs": [
    {
     "data": {
      "text/plain": [
       "102"
      ]
     },
     "execution_count": 37,
     "metadata": {},
     "output_type": "execute_result"
    }
   ],
   "source": [
    "next(t)"
   ]
  },
  {
   "cell_type": "code",
   "execution_count": 143,
   "metadata": {},
   "outputs": [],
   "source": [
    "import itertools\n",
    "\n",
    "class Account:\n",
    "    _interest_rate = 0.5   # percent/ class property\n",
    "    \n",
    "    _transaction_codes = {\n",
    "        'deposit':'D',\n",
    "        'withdraw':'W',\n",
    "        'interest':'I',\n",
    "        'rejected':'X'\n",
    "    }\n",
    "    \n",
    "    transaction_counter = itertools.count(100)\n",
    "    \n",
    "    def make_transaction(self):\n",
    "        new_trans_id = next(Account.transaction_counter)\n",
    "        return new_trans_id\n",
    "    \n",
    "    def __init__(self,account_number, first_name, last_name,timezone = None, initial_balance = 0):\n",
    "        self._account_number = account_number\n",
    "        self.first_name = first_name\n",
    "        self.last_name = last_name\n",
    "        \n",
    "        if timezone is None:\n",
    "            timezone = TimeZone('UTC',0,0)\n",
    "        self._timezone = timezone\n",
    "        self._balance = float(initial_balance)\n",
    "        \n",
    "    @property\n",
    "    def account_number(self):\n",
    "        return self._account_number\n",
    "    \n",
    "    @property\n",
    "    def first_name(self):\n",
    "        return self._first_name\n",
    "    \n",
    "    @first_name.setter\n",
    "    def first_name(self,value):\n",
    "\n",
    "        self._first_name = Account.validate_name(value, 'First Name')\n",
    "    \n",
    "    @property\n",
    "    def last_name(self):\n",
    "        return self._last_name\n",
    "    \n",
    "    @last_name.setter\n",
    "    def last_name(self,value):\n",
    "        self._last_name = Account.validate_name(value, 'Laste Name')  \n",
    "    \n",
    "    @property\n",
    "    def timezone(self):\n",
    "        return self._timezone\n",
    "    \n",
    "    @timezone.setter\n",
    "    def timezone(self,value):\n",
    "        if not isinstance(value,TimeZone):\n",
    "            raise ValueError('Time Zone must be a valid TimeZone object')\n",
    "        self._timezone = value\n",
    "    \n",
    "    @property\n",
    "    def balance(self):\n",
    "        return self._balance\n",
    "    @staticmethod\n",
    "    def validate_name(value,field_title):\n",
    "        if not value or len(value.strip()) == 0:\n",
    "            raise ValueError(f'{field_title} cannot be empty')\n",
    "        return str(value).strip()\n",
    "    \n",
    "    @classmethod\n",
    "    def get_interest_rate(cls):\n",
    "        return cls._interest_rate\n",
    "    \n",
    "    @classmethod\n",
    "    def set_interest_rate(cls, value):\n",
    "        if not isinstance(value, numbers.Integral):\n",
    "            raise ValueError(f'interest rate must be a number')\n",
    "        \n",
    "        if value < 0:\n",
    "            raise ValueError(f'interest rate must be postive')\n",
    "        \n",
    "        cls._interest_rate = value\n",
    "\n",
    "    from datetime import datetime\n",
    "\n",
    "    def generate_confirmation_code(self,transaction_code):\n",
    "        dt_str = datetime.utcnow().strftime('%Y%m%d%H%M%S')\n",
    "        return f'{transaction_code}-{self.account_number}-{dt_str}-{next(Account.transaction_counter)}'\n",
    "    \n",
    "    def make_transaction(self):\n",
    "        return self.generate_confirmation_code('dummy')\n",
    "\n",
    "    from collections import namedtuple\n",
    "\n",
    "    Confirmation = namedtuple('Confirmation','account_number confirmation_code transaction_id time_utc time')\n",
    "\n",
    "    @staticmethod\n",
    "    def parse_confirmation_code(confirmation_code,preferred_time_zone = None):\n",
    "        # dummy\n",
    "        parts = confirmation_code.split('-')\n",
    "        if len(parts) != 4:\n",
    "            raise ValueError('Invalid confirmation code')\n",
    "        \n",
    "        transaction_code, account_number, raw_dt_utc, transaction_id = parts\n",
    "        try:\n",
    "            dt_utc = datetime.strptime(raw_dt_utc,'%Y%m%d%H%M%S')\n",
    "        except ValueError as ex:\n",
    "            raise ValueError('Invalid transaction datetime.') from ex\n",
    "        \n",
    "        if preferred_time_zone is None:\n",
    "            preferred_time_zone = TimeZone('UTC',0,0)\n",
    "        if not isinstance(preferred_time_zone, TimeZone):\n",
    "            raise ValueError('Invalid TimeZone specificed')\n",
    "        \n",
    "        dt_preferred = dt_utc + preferred_time_zone.offset\n",
    "        dt_preferred_str = f\"{dt_preferred.strftime('%Y-%m-%d %H:%M%S')} ({preferred_time_zone.name})\"\n",
    "        \n",
    "        return Confirmation(account_number, transaction_code, transaction_id, dt_utc.isoformat(), dt_preferred_str)\n"
   ]
  },
  {
   "cell_type": "code",
   "execution_count": 144,
   "metadata": {},
   "outputs": [
    {
     "name": "stdout",
     "output_type": "stream",
     "text": [
      "dummy-A100-20240409215105-100\n"
     ]
    }
   ],
   "source": [
    "a = Account('A100','Eric','Idle')\n",
    "conf_code = a.make_transaction()\n",
    "print(conf_code)"
   ]
  },
  {
   "cell_type": "code",
   "execution_count": 145,
   "metadata": {},
   "outputs": [
    {
     "ename": "NameError",
     "evalue": "name 'Confirmation' is not defined",
     "output_type": "error",
     "traceback": [
      "\u001b[0;31m---------------------------------------------------------------------------\u001b[0m",
      "\u001b[0;31mNameError\u001b[0m                                 Traceback (most recent call last)",
      "Input \u001b[0;32mIn [145]\u001b[0m, in \u001b[0;36m<cell line: 1>\u001b[0;34m()\u001b[0m\n\u001b[0;32m----> 1\u001b[0m \u001b[43mAccount\u001b[49m\u001b[38;5;241;43m.\u001b[39;49m\u001b[43mparse_confirmation_code\u001b[49m\u001b[43m(\u001b[49m\u001b[43mconf_code\u001b[49m\u001b[43m)\u001b[49m\n",
      "Input \u001b[0;32mIn [143]\u001b[0m, in \u001b[0;36mAccount.parse_confirmation_code\u001b[0;34m(confirmation_code, preferred_time_zone)\u001b[0m\n\u001b[1;32m    114\u001b[0m dt_preferred \u001b[38;5;241m=\u001b[39m dt_utc \u001b[38;5;241m+\u001b[39m preferred_time_zone\u001b[38;5;241m.\u001b[39moffset\n\u001b[1;32m    115\u001b[0m dt_preferred_str \u001b[38;5;241m=\u001b[39m \u001b[38;5;124mf\u001b[39m\u001b[38;5;124m\"\u001b[39m\u001b[38;5;132;01m{\u001b[39;00mdt_preferred\u001b[38;5;241m.\u001b[39mstrftime(\u001b[38;5;124m'\u001b[39m\u001b[38;5;124m%\u001b[39m\u001b[38;5;124mY-\u001b[39m\u001b[38;5;124m%\u001b[39m\u001b[38;5;124mm-\u001b[39m\u001b[38;5;132;01m%d\u001b[39;00m\u001b[38;5;124m \u001b[39m\u001b[38;5;124m%\u001b[39m\u001b[38;5;124mH:\u001b[39m\u001b[38;5;124m%\u001b[39m\u001b[38;5;124mM\u001b[39m\u001b[38;5;124m%\u001b[39m\u001b[38;5;124mS\u001b[39m\u001b[38;5;124m'\u001b[39m)\u001b[38;5;132;01m}\u001b[39;00m\u001b[38;5;124m (\u001b[39m\u001b[38;5;132;01m{\u001b[39;00mpreferred_time_zone\u001b[38;5;241m.\u001b[39mname\u001b[38;5;132;01m}\u001b[39;00m\u001b[38;5;124m)\u001b[39m\u001b[38;5;124m\"\u001b[39m\n\u001b[0;32m--> 117\u001b[0m \u001b[38;5;28;01mreturn\u001b[39;00m \u001b[43mConfirmation\u001b[49m(account_number, transaction_code, transaction_id, dt_utc\u001b[38;5;241m.\u001b[39misoformat(), dt_preferred_str)\n",
      "\u001b[0;31mNameError\u001b[0m: name 'Confirmation' is not defined"
     ]
    }
   ],
   "source": [
    "Account.parse_confirmation_code(conf_code)"
   ]
  },
  {
   "cell_type": "code",
   "execution_count": 134,
   "metadata": {},
   "outputs": [
    {
     "name": "stdout",
     "output_type": "stream",
     "text": [
      "Laste Name cannot be empty\n"
     ]
    }
   ],
   "source": [
    "try:\n",
    "    a = Account('234','John',None)\n",
    "except ValueError as ex:\n",
    "    print(ex)"
   ]
  },
  {
   "cell_type": "code",
   "execution_count": 127,
   "metadata": {},
   "outputs": [],
   "source": [
    "try:\n",
    "    a = Account('234','John','Cleese','-7:00')\n",
    "except ValueError as ex:\n",
    "    print(ex)"
   ]
  },
  {
   "cell_type": "code",
   "execution_count": 130,
   "metadata": {},
   "outputs": [
    {
     "data": {
      "text/plain": [
       "'dummy-123-20240409213504-104'"
      ]
     },
     "execution_count": 130,
     "metadata": {},
     "output_type": "execute_result"
    }
   ],
   "source": [
    "a = Account('A100','John','Cleese')\n",
    "a.make_transaction()\n",
    "a2 = Account('123','dumsdfe','sdf')\n",
    "a2.make_transaction()"
   ]
  },
  {
   "cell_type": "code",
   "execution_count": 131,
   "metadata": {},
   "outputs": [
    {
     "name": "stdout",
     "output_type": "stream",
     "text": [
      "can't set attribute\n"
     ]
    }
   ],
   "source": [
    "a = Account('234','John','Cleese',initial_balance = 100)\n",
    "a.balance\n",
    "try:\n",
    "    a.balance = 200\n",
    "except AttributeError as ex:\n",
    "    print(ex)"
   ]
  },
  {
   "cell_type": "code",
   "execution_count": 115,
   "metadata": {},
   "outputs": [
    {
     "name": "stdout",
     "output_type": "stream",
     "text": [
      "100\n",
      "100\n",
      "10\n",
      "10\n",
      "100\n",
      "100\n"
     ]
    }
   ],
   "source": [
    "a1 = Account('234','John','Cleese')\n",
    "a2 = Account('2345','John','Cleese')\n",
    "print(a1.get_interest_rate())\n",
    "print(a2.get_interest_rate())\n",
    "a1.set_interest_rate(10) \n",
    "print(a1.get_interest_rate())\n",
    "print(a2.get_interest_rate())\n",
    "a2.set_interest_rate(100)\n",
    "print(a1.get_interest_rate())\n",
    "print(a2.get_interest_rate())"
   ]
  },
  {
   "cell_type": "code",
   "execution_count": 81,
   "metadata": {},
   "outputs": [
    {
     "data": {
      "text/plain": [
       "0.5"
      ]
     },
     "execution_count": 81,
     "metadata": {},
     "output_type": "execute_result"
    }
   ],
   "source": [
    "Account.interest_rate"
   ]
  },
  {
   "cell_type": "code",
   "execution_count": 88,
   "metadata": {},
   "outputs": [
    {
     "data": {
      "text/plain": [
       "(<bound method Account.get_interest_rate of <class '__main__.Account'>>,\n",
       " <bound method Account.get_interest_rate of <class '__main__.Account'>>)"
      ]
     },
     "execution_count": 88,
     "metadata": {},
     "output_type": "execute_result"
    }
   ],
   "source": [
    "# reflect through the class\n",
    "Account.interest_rate = 10\n",
    "a1.get_interest_rate, a2.get_interest_rate"
   ]
  },
  {
   "cell_type": "code",
   "execution_count": 92,
   "metadata": {},
   "outputs": [
    {
     "name": "stdout",
     "output_type": "stream",
     "text": [
      "interest rate must be a number\n"
     ]
    }
   ],
   "source": [
    "try:\n",
    "    Account.set_interest_rate(1+1j)\n",
    "except ValueError as ex:\n",
    "    print(ex)"
   ]
  },
  {
   "cell_type": "code",
   "execution_count": 83,
   "metadata": {},
   "outputs": [
    {
     "data": {
      "text/plain": [
       "10"
      ]
     },
     "execution_count": 83,
     "metadata": {},
     "output_type": "execute_result"
    }
   ],
   "source": [
    "a1.interest_rate = 100\n",
    "a2.interest_rate"
   ]
  },
  {
   "cell_type": "code",
   "execution_count": 84,
   "metadata": {},
   "outputs": [
    {
     "data": {
      "text/plain": [
       "{'_account_number': '234',\n",
       " '_first_name': 'John',\n",
       " '_last_name': 'Cleese',\n",
       " '_timezone': TimeZone(name= 'UTC',offset_hours = 0,offset_minutes = 0),\n",
       " '_balance': 0.0,\n",
       " 'interest_rate': 100}"
      ]
     },
     "execution_count": 84,
     "metadata": {},
     "output_type": "execute_result"
    }
   ],
   "source": [
    "a1.__dict__"
   ]
  },
  {
   "cell_type": "code",
   "execution_count": 46,
   "metadata": {},
   "outputs": [
    {
     "name": "stdout",
     "output_type": "stream",
     "text": [
      "100\n",
      "101\n",
      "102\n"
     ]
    }
   ],
   "source": [
    "a1 = Account()\n",
    "a2 = Account()\n",
    "print(a1.make_transaction())\n",
    "print(a2.make_transaction())\n",
    "print(a1.make_transaction())"
   ]
  },
  {
   "cell_type": "code",
   "execution_count": 116,
   "metadata": {},
   "outputs": [],
   "source": [
    "#help(itertools)"
   ]
  },
  {
   "cell_type": "code",
   "execution_count": 117,
   "metadata": {},
   "outputs": [],
   "source": [
    "from datetime import datetime\n",
    "\n",
    "def generate_confirmation_code(account_number, transaction_id, transaction_code):\n",
    "    dt_str = datetime.utcnow().strftime('%Y%m%d%H%M%S')\n",
    "    return f'{transaction_code}-{account_number}-{dt_str}-{transaction_id}'\n",
    "    "
   ]
  },
  {
   "cell_type": "code",
   "execution_count": 118,
   "metadata": {},
   "outputs": [
    {
     "data": {
      "text/plain": [
       "'X-123-20240409213146-1000'"
      ]
     },
     "execution_count": 118,
     "metadata": {},
     "output_type": "execute_result"
    }
   ],
   "source": [
    "generate_confirmation_code(123,1000,'X')"
   ]
  },
  {
   "cell_type": "code",
   "execution_count": null,
   "metadata": {},
   "outputs": [],
   "source": [
    "from collections import namedtuple\n",
    "\n",
    "Confirmation = namedtuple('Confirmation','account_number confirmation_code transaction_id time_utc time')"
   ]
  }
 ],
 "metadata": {
  "kernelspec": {
   "display_name": "Python 3 (ipykernel)",
   "language": "python",
   "name": "python3"
  },
  "language_info": {
   "codemirror_mode": {
    "name": "ipython",
    "version": 3
   },
   "file_extension": ".py",
   "mimetype": "text/x-python",
   "name": "python",
   "nbconvert_exporter": "python",
   "pygments_lexer": "ipython3",
   "version": "3.9.12"
  }
 },
 "nbformat": 4,
 "nbformat_minor": 2
}
